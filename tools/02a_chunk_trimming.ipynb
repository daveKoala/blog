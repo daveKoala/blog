{
 "cells": [
  {
   "cell_type": "markdown",
   "id": "b64e1d81",
   "metadata": {},
   "source": [
    "Generate chunks_trimmed.jsonl, where each chunk is limited to a max token count (e.g. 300 tokens). This is helpful for:\n",
    "\n",
    "Ensuring compatibility with embedding models\n",
    "\n",
    "Improving semantic precision\n",
    "\n",
    "Making chunking more consistent across your dataset"
   ]
  },
  {
   "cell_type": "code",
   "execution_count": 11,
   "id": "ded527f5",
   "metadata": {},
   "outputs": [
    {
     "name": "stdout",
     "output_type": "stream",
     "text": [
      "Requirement already satisfied: pip in /Users/davidclare/Projects/git-pages-blog/.venv/lib/python3.9/site-packages (25.1.1)\n",
      "Note: you may need to restart the kernel to use updated packages.\n",
      "Note: you may need to restart the kernel to use updated packages.\n"
     ]
    }
   ],
   "source": [
    "%pip install --upgrade pip\n",
    "\n",
    "%pip install -q -r ./requirements.txt"
   ]
  },
  {
   "cell_type": "code",
   "execution_count": 12,
   "id": "fba879c6",
   "metadata": {},
   "outputs": [],
   "source": [
    "import tiktoken\n",
    "\n",
    "# Use GPT-3.5 tokenizer (good for estimation)\n",
    "tokenizer = tiktoken.encoding_for_model(\"gpt-3.5-turbo\")"
   ]
  },
  {
   "cell_type": "code",
   "execution_count": 13,
   "id": "1aca5b14",
   "metadata": {},
   "outputs": [],
   "source": [
    "\n",
    "\n",
    "\n",
    "def count_tokens(text: str) -> int:\n",
    "    return len(tokenizer.encode(text))"
   ]
  },
  {
   "cell_type": "code",
   "execution_count": 14,
   "id": "3b3b7fb2",
   "metadata": {},
   "outputs": [],
   "source": [
    "def split_into_token_chunks(text, max_tokens=300):\n",
    "    words = text.split()\n",
    "    chunks = []\n",
    "    current = []\n",
    "\n",
    "    for word in words:\n",
    "        # Check projected token count *before* adding the word\n",
    "        projected = \" \".join(current + [word])\n",
    "        if count_tokens(projected) > max_tokens:\n",
    "            if current:\n",
    "                chunks.append(\" \".join(current))\n",
    "            current = [word]  # start new chunk with current word\n",
    "        else:\n",
    "            current.append(word)\n",
    "\n",
    "    if current:\n",
    "        chunks.append(\" \".join(current))\n",
    "    return chunks"
   ]
  },
  {
   "cell_type": "code",
   "execution_count": 15,
   "id": "24ae4f0e",
   "metadata": {},
   "outputs": [],
   "source": [
    "import json\n",
    "\n",
    "MAX_TOKENS = 300\n",
    "trimmed_chunks = []"
   ]
  },
  {
   "cell_type": "code",
   "execution_count": 16,
   "id": "6a7a5898",
   "metadata": {},
   "outputs": [],
   "source": [
    "import json\n",
    "\n",
    "\n",
    "def get_chunk_writer(filename):\n",
    "    f = open(filename, \"w\", encoding=\"utf-8\")  # or \"a\" for append mode\n",
    "\n",
    "    def write_chunk(chunk):\n",
    "        f.write(json.dumps(chunk) + \"\\n\")\n",
    "\n",
    "    return write_chunk, f.close"
   ]
  },
  {
   "cell_type": "code",
   "execution_count": 17,
   "id": "29bfc4b2",
   "metadata": {},
   "outputs": [],
   "source": [
    "with open(\"./chunks_raw.jsonl\", \"r\", encoding=\"utf-8\") as f:\n",
    "    for line in f:\n",
    "        original = json.loads(line)\n",
    "        text = original[\"chunk\"]\n",
    "\n",
    "        if count_tokens(text) <= MAX_TOKENS: # No need to split\n",
    "            trimmed_chunks.append(original)\n",
    "        else:\n",
    "            split_chunks = split_into_token_chunks(text, max_tokens=MAX_TOKENS)\n",
    "            for i, sub_chunk in enumerate(split_chunks):\n",
    "                trimmed_chunks.append(\n",
    "                    {\n",
    "                        **original,\n",
    "                        \"chunk\": sub_chunk,\n",
    "                        \"heading\": f\"{original['heading']} (part {i+1})\",\n",
    "                    }\n",
    "                )"
   ]
  },
  {
   "cell_type": "code",
   "execution_count": 18,
   "id": "c1a2975b",
   "metadata": {},
   "outputs": [],
   "source": [
    "write_chunk, close_writer = get_chunk_writer(f\"chunks_trimmed_{MAX_TOKENS}.jsonl\")"
   ]
  },
  {
   "cell_type": "code",
   "execution_count": 19,
   "id": "e7b9a678",
   "metadata": {},
   "outputs": [],
   "source": [
    "\n",
    "for chunk in trimmed_chunks:\n",
    "    write_chunk(chunk)  # Write each chunk to the file"
   ]
  },
  {
   "cell_type": "code",
   "execution_count": 20,
   "id": "3f7b6e39",
   "metadata": {},
   "outputs": [
    {
     "name": "stdout",
     "output_type": "stream",
     "text": [
      "Total trimmed chunks: 201\n",
      "Token range: 0 to 300\n",
      "Chunks over 300 tokens: 0 (should be 0)\n"
     ]
    }
   ],
   "source": [
    "token_lengths = [count_tokens(c[\"chunk\"]) for c in trimmed_chunks]\n",
    "\n",
    "print(f\"Total trimmed chunks: {len(trimmed_chunks)}\")\n",
    "print(f\"Token range: {min(token_lengths)} to {max(token_lengths)}\")\n",
    "print(\n",
    "    f\"Chunks over {MAX_TOKENS} tokens: {sum(t > MAX_TOKENS for t in token_lengths)} (should be 0)\"\n",
    ")"
   ]
  }
 ],
 "metadata": {
  "kernelspec": {
   "display_name": ".venv",
   "language": "python",
   "name": "python3"
  },
  "language_info": {
   "codemirror_mode": {
    "name": "ipython",
    "version": 3
   },
   "file_extension": ".py",
   "mimetype": "text/x-python",
   "name": "python",
   "nbconvert_exporter": "python",
   "pygments_lexer": "ipython3",
   "version": "3.9.6"
  }
 },
 "nbformat": 4,
 "nbformat_minor": 5
}
